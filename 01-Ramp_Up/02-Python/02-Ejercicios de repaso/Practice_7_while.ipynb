{
 "cells": [
  {
   "cell_type": "markdown",
   "metadata": {},
   "source": [
    "# Python | day 7 | while"
   ]
  },
  {
   "cell_type": "markdown",
   "metadata": {},
   "source": [
    "Con el bucle **while** podemos ejecutar un conjunto de sentencias mientras se cumpla una condición."
   ]
  },
  {
   "cell_type": "markdown",
   "metadata": {},
   "source": [
    "```python\n",
    "i = 1\n",
    "while i < 6:\n",
    "  print(i)\n",
    "  i += 1\n",
    "```"
   ]
  },
  {
   "cell_type": "markdown",
   "metadata": {},
   "source": [
    "### Ejercicio 1."
   ]
  },
  {
   "cell_type": "markdown",
   "metadata": {},
   "source": [
    "Haga lo que se describe a continuación:\n",
    "\n",
    "- Crea una variable llamada fuerza, y fija su valor inicial en 5.\n",
    "\n",
    "- Imprime un mensaje informando de la fuerza del jugador.\n",
    "\n",
    "- Establece un bucle while que se ejecute hasta que la fuerza del jugador aumente hasta un valor como 10.\n",
    "\n",
    "- Dentro del bucle while, imprime un mensaje que informe de la fuerza actual del jugador.\n",
    "\n",
    "- Dentro del bucle while, escribe una sentencia que incremente la fuerza del jugador.\n",
    "\n",
    "- Fuera del bucle while, imprime un mensaje informando de que el jugador se ha hecho demasiado fuerte, y que ha pasado a un nuevo nivel del juego.\n",
    "\n",
    "Juega con diferentes niveles de corte para el valor de la fuerza, y juega con diferentes maneras de aumentar el valor de la fuerza dentro del bucle while.\n"
   ]
  },
  {
   "cell_type": "code",
   "execution_count": 3,
   "metadata": {},
   "outputs": [
    {
     "name": "stdout",
     "output_type": "stream",
     "text": [
      "5\n",
      "6\n",
      "7\n",
      "8\n",
      "9\n",
      "10\n",
      "El jugador se ha hecho demasiado fuerte, pasa al siguiente nivel\n"
     ]
    }
   ],
   "source": [
    "fuerza = 5\n",
    "\n",
    "print(fuerza)\n",
    "\n",
    "while fuerza < 10:\n",
    "    fuerza += 1\n",
    "    print(fuerza)\n",
    "\n",
    "print(\"El jugador se ha hecho demasiado fuerte, pasa al siguiente nivel\")"
   ]
  },
  {
   "cell_type": "markdown",
   "metadata": {},
   "source": [
    "### Ejercicio 2."
   ]
  },
  {
   "cell_type": "markdown",
   "metadata": {},
   "source": [
    "Para resolver los siguientes ejercicios será necesario definir una función para cada apartado. Elige el nombre de esas funciones a menos que se especifique, pero asegúrate de definir un único parámetro `cualquiera_lista`, al llamar a la función corresponderá a la variable `info_lista`."
   ]
  },
  {
   "cell_type": "code",
   "execution_count": 8,
   "metadata": {},
   "outputs": [],
   "source": [
    "# puedes utilizar esta lista o tomar la tuya de la Práctica 3\n",
    "info_list = [15, 'Recoletos', True, ['Recoletos', 15],  None, '8'] "
   ]
  },
  {
   "cell_type": "markdown",
   "metadata": {},
   "source": [
    "Ya has leído estas preguntas a continuación, pero esta vez se te pide que las resuelvas utilizando el bucle `while` en lugar de `for`.\n",
    "\n",
    "   - Recorre `cualquier_lista` para imprimir todos los elementos que contiene. Esta función debe devolver la lista convertida en tupla.\n",
    "   - Recorre `cualquier_lista` para imprimir todos los elementos que contiene concatenados con la cadena` \"--> OK\" `. Esta función debería devolver un mensaje diciendo, `\"todo irá bien\"`.\n",
    "   - Recorrer `cualquier_lista` para mostrar todos los elementos que contiene excepto el primero. Esta función debería devolver el primer elemento de la lista.\n",
    "   - Recorre `cualquier_lista` para mostrar todos los elementos que contiene excepto el último. Esta función debe devolver el último elemento de la lista."
   ]
  },
  {
   "cell_type": "code",
   "execution_count": 56,
   "metadata": {},
   "outputs": [],
   "source": [
    "def while_tuple(cualquier_lista:list) -> tuple:\n",
    "\n",
    "    tupla_salida = []\n",
    "    intermedia  = cualquier_lista.copy()\n",
    "    while len(intermedia) > 0:\n",
    "        tupla_salida.append(intermedia[0])\n",
    "        print(intermedia[0])\n",
    "        intermedia.pop(0)\n",
    "        \n",
    "    \n",
    "    definita = tuple(tupla_salida)\n",
    "\n",
    "    return definita"
   ]
  },
  {
   "cell_type": "code",
   "execution_count": 58,
   "metadata": {},
   "outputs": [
    {
     "name": "stdout",
     "output_type": "stream",
     "text": [
      "15\n",
      "Recoletos\n",
      "True\n",
      "['Recoletos', 15]\n",
      "None\n",
      "8\n"
     ]
    },
    {
     "data": {
      "text/plain": [
       "(15, 'Recoletos', True, ['Recoletos', 15], None, '8')"
      ]
     },
     "execution_count": 58,
     "metadata": {},
     "output_type": "execute_result"
    }
   ],
   "source": [
    "while_tuple(info_list)"
   ]
  },
  {
   "cell_type": "code",
   "execution_count": 7,
   "metadata": {},
   "outputs": [],
   "source": [
    "def while_ok(cualquier_lista: list) -> str:\n",
    "\n",
    "    intermedia = cualquier_lista.copy()\n",
    "    lista_print = []\n",
    "\n",
    "    while len(intermedia) > 0:\n",
    "        lista_print.append([f\"{intermedia[0]} --> OK\"])\n",
    "        intermedia.pop(0)\n",
    "    \n",
    "    print(lista_print)\n",
    "\n",
    "    return \"todo irá bien\"\n",
    "\n"
   ]
  },
  {
   "cell_type": "code",
   "execution_count": 10,
   "metadata": {},
   "outputs": [
    {
     "name": "stdout",
     "output_type": "stream",
     "text": [
      "[['15 --> OK'], ['Recoletos --> OK'], ['True --> OK'], [\"['Recoletos', 15] --> OK\"], ['None --> OK'], ['8 --> OK']]\n"
     ]
    },
    {
     "data": {
      "text/plain": [
       "'todo irá bien'"
      ]
     },
     "execution_count": 10,
     "metadata": {},
     "output_type": "execute_result"
    }
   ],
   "source": [
    "while_ok(info_list)"
   ]
  },
  {
   "cell_type": "code",
   "execution_count": 13,
   "metadata": {},
   "outputs": [],
   "source": [
    "def while_primero(cualquier_lista:list):\n",
    "\n",
    "    \n",
    "    intermedia = cualquier_lista.copy()\n",
    "    intermedia.pop(0)\n",
    "    lista_print = []\n",
    "\n",
    "    while len(intermedia) > 0:\n",
    "        lista_print.append(intermedia[0])\n",
    "        intermedia.pop(0)\n",
    "    \n",
    "    print(lista_print)\n",
    "\n",
    "    return cualquier_lista[0]"
   ]
  },
  {
   "cell_type": "code",
   "execution_count": 15,
   "metadata": {},
   "outputs": [
    {
     "name": "stdout",
     "output_type": "stream",
     "text": [
      "['Recoletos', True, ['Recoletos', 15], None, '8']\n"
     ]
    },
    {
     "data": {
      "text/plain": [
       "15"
      ]
     },
     "execution_count": 15,
     "metadata": {},
     "output_type": "execute_result"
    }
   ],
   "source": [
    "while_primero(info_list)"
   ]
  },
  {
   "cell_type": "code",
   "execution_count": 17,
   "metadata": {},
   "outputs": [],
   "source": [
    "def while_final(cualquier_lista:list):\n",
    "\n",
    "    \n",
    "    intermedia = cualquier_lista.copy()\n",
    "    intermedia.pop(-1)\n",
    "    lista_print = []\n",
    "\n",
    "    while len(intermedia) > 0:\n",
    "        lista_print.append(intermedia[0])\n",
    "        intermedia.pop(0)\n",
    "    \n",
    "    print(lista_print)\n",
    "\n",
    "    return cualquier_lista[-1]"
   ]
  },
  {
   "cell_type": "code",
   "execution_count": 18,
   "metadata": {},
   "outputs": [
    {
     "name": "stdout",
     "output_type": "stream",
     "text": [
      "[15, 'Recoletos', True, ['Recoletos', 15], None]\n"
     ]
    },
    {
     "data": {
      "text/plain": [
       "'8'"
      ]
     },
     "execution_count": 18,
     "metadata": {},
     "output_type": "execute_result"
    }
   ],
   "source": [
    "while_final(info_list)"
   ]
  },
  {
   "cell_type": "markdown",
   "metadata": {},
   "source": [
    "### Ejercicio 3."
   ]
  },
  {
   "cell_type": "markdown",
   "metadata": {},
   "source": [
    "1. Define una función que realice la [serie de Fibonacci](https://quantdare.com/numeros-de-fibonacci/#:~:text=En%20matem%C3%A1ticas%2C%20la%20sucesi%C3%B3n%20o,nombre%20de%20n%C3%BAmero%20de%20Fibonacci.) con un `mientras`."
   ]
  },
  {
   "cell_type": "code",
   "execution_count": 19,
   "metadata": {},
   "outputs": [
    {
     "name": "stdout",
     "output_type": "stream",
     "text": [
      "0 1 1 2 3 5 "
     ]
    }
   ],
   "source": [
    "N = int(input(\"ingrese un numero\"))\n",
    "a, b = 0, 1\n",
    "    \n",
    "while a <= N:\n",
    "    print(a, end=\" \")\n",
    "    a, b = b, a+b"
   ]
  },
  {
   "cell_type": "markdown",
   "metadata": {},
   "source": [
    "### Ejercicio 4."
   ]
  },
  {
   "cell_type": "markdown",
   "metadata": {},
   "source": [
    "Para resolver los siguientes ejercicios será necesario definir una función para cada apartado. Elige el nombre de esas funciones a menos que se especifique, pero asegúrate de definir un único parámetro `cualquiera_lista`, al llamar a la función corresponderá a la variable `info_lista`."
   ]
  },
  {
   "cell_type": "code",
   "execution_count": 20,
   "metadata": {},
   "outputs": [],
   "source": [
    "# you can use this list or take yours from Practice 3\n",
    "info_list = [15, 'Recoletos', True, ['Recoletos', 15],  None, '8'] "
   ]
  },
  {
   "cell_type": "markdown",
   "metadata": {},
   "source": [
    "1. Define una función que guarde el valor de `\"nada\"` en una variable y lo imprima. Además, concatena su valor con el número de El Puente y lo muestra en pantalla.\n",
    "\n",
    "   Además, mostrar un booleano **Verdadero** si la longitud de la palabra concatenada es 6. En caso contrario, será **Falso**. La función debe devolver el valor **Verdadero** o **Falso** y el nombre de esta función será `f_s`."
   ]
  },
  {
   "cell_type": "code",
   "execution_count": 56,
   "metadata": {},
   "outputs": [],
   "source": [
    "def f_s(cualquier_lista:list):\n",
    "\n",
    "    nada = cualquier_lista[-2]\n",
    "    print(nada)\n",
    "\n",
    "    segunda = str(nada) + str(cualquier_lista[0])\n",
    "    print(segunda)\n",
    "\n",
    "    if len(segunda) == 6:\n",
    "        return(True)\n",
    "    else:\n",
    "        return(False)\n"
   ]
  },
  {
   "cell_type": "code",
   "execution_count": 34,
   "metadata": {},
   "outputs": [
    {
     "name": "stdout",
     "output_type": "stream",
     "text": [
      "None\n",
      "None15\n"
     ]
    },
    {
     "data": {
      "text/plain": [
       "True"
      ]
     },
     "execution_count": 34,
     "metadata": {},
     "output_type": "execute_result"
    }
   ],
   "source": [
    "f_s(info_list)"
   ]
  },
  {
   "cell_type": "markdown",
   "metadata": {},
   "source": [
    "### Bonus Track."
   ]
  },
  {
   "cell_type": "markdown",
   "metadata": {},
   "source": [
    "2. Crea una lista `lista_aux` con 7 elementos, los que quieras. A continuación, crea una función `usar_f_s` que reciba como parámetros una función `alguna_función` y cualquier lista `cualquier_lista`. Si el valor de `alguna_función` es **True**, elimina un elemento de `cualquier_lista`. Repita el proceso hasta que `cualquiera_lista` no tenga elementos. El argumento para `cualquiera_lista` debe ser `list_aux` y para `some_function` será la función `f_s` del punto anterior."
   ]
  },
  {
   "cell_type": "code",
   "execution_count": 21,
   "metadata": {},
   "outputs": [],
   "source": [
    "lista_aux = list(range(7))\n",
    "\n",
    "def usar_f_s(alguna_función:bool, cualquier_lista:list):\n",
    "\n",
    "    if alguna_función == True:\n",
    "        while len(cualquier_lista) > 0:\n",
    "            cualquier_lista.pop()\n",
    "\n",
    "    return cualquier_lista"
   ]
  },
  {
   "cell_type": "code",
   "execution_count": 22,
   "metadata": {},
   "outputs": [
    {
     "ename": "NameError",
     "evalue": "name 'f_s' is not defined",
     "output_type": "error",
     "traceback": [
      "\u001b[1;31m---------------------------------------------------------------------------\u001b[0m",
      "\u001b[1;31mNameError\u001b[0m                                 Traceback (most recent call last)",
      "\u001b[1;32mc:\\Users\\camil\\OneDrive\\Documentos\\GitHub\\GITHUb\\DS_PT_09_2023\\01-Ramp_Up\\02-Python\\02-Ejercicios de repaso\\Practice_7_while.ipynb Cell 31\u001b[0m line \u001b[0;36m1\n\u001b[1;32m----> <a href='vscode-notebook-cell:/c%3A/Users/camil/OneDrive/Documentos/GitHub/GITHUb/DS_PT_09_2023/01-Ramp_Up/02-Python/02-Ejercicios%20de%20repaso/Practice_7_while.ipynb#X42sZmlsZQ%3D%3D?line=0'>1</a>\u001b[0m usar_f_s(f_s(info_list), lista_aux)\n\u001b[0;32m      <a href='vscode-notebook-cell:/c%3A/Users/camil/OneDrive/Documentos/GitHub/GITHUb/DS_PT_09_2023/01-Ramp_Up/02-Python/02-Ejercicios%20de%20repaso/Practice_7_while.ipynb#X42sZmlsZQ%3D%3D?line=1'>2</a>\u001b[0m \u001b[39mprint\u001b[39m(lista_aux)\n",
      "\u001b[1;31mNameError\u001b[0m: name 'f_s' is not defined"
     ]
    }
   ],
   "source": [
    "usar_f_s(f_s(info_list), lista_aux)\n",
    "print(lista_aux)"
   ]
  },
  {
   "cell_type": "markdown",
   "metadata": {},
   "source": [
    "3. Defina una función `números_pares` que tenga como parámetro de entrada `arg1`, de tipo entero. La función debe devolver una lista de números de tamaño `arg1`, siendo todos ellos números pares.\n",
    "\n",
    "   No uses la función `print()` dentro de la función, pero imprime lo que devuelve `números_pares` al llamarla con el argumento `10`, sólo para comprobar que tu función funciona.\n",
    "   \n",
    "```python\n",
    "print(even_numbers(10))\n",
    "```"
   ]
  },
  {
   "cell_type": "code",
   "execution_count": 30,
   "metadata": {},
   "outputs": [],
   "source": [
    "import random\n",
    "\n",
    "def numeros_pares(arg1:int) -> list:\n",
    "\n",
    "    lista1 = []\n",
    "    a = random.randint(1,10)\n",
    "\n",
    "\n",
    "    while len(lista1) < arg1:\n",
    "        if a % 2 == 0:\n",
    "            lista1.append(random.randint(1,10))\n",
    "    \n",
    "    return lista1"
   ]
  },
  {
   "cell_type": "code",
   "execution_count": 35,
   "metadata": {},
   "outputs": [
    {
     "data": {
      "text/plain": [
       "[7, 8, 5, 7, 9, 2, 10, 7, 8, 1]"
      ]
     },
     "execution_count": 35,
     "metadata": {},
     "output_type": "execute_result"
    }
   ],
   "source": [
    "[random.randint(1,10) for x in range(10)]"
   ]
  },
  {
   "cell_type": "code",
   "execution_count": 34,
   "metadata": {},
   "outputs": [
    {
     "name": "stdout",
     "output_type": "stream",
     "text": [
      "[3, 6, 1, 9, 7, 10, 9, 8, 8, 7]\n"
     ]
    }
   ],
   "source": [
    "print(numeros_pares(10))"
   ]
  },
  {
   "cell_type": "markdown",
   "metadata": {},
   "source": [
    "4. Crea una función que tenga como variable de entrada `arg1`, que será la lista de números pares del apartado anterior, y que elimine elementos de la lista, uno a uno, si `arg1` tiene un tamaño divisible por 2 y, en caso contrario, añada una sola vez, el valor de la función `f_s` que debe ser un booleano (`True` o `False`).\n"
   ]
  },
  {
   "cell_type": "code",
   "execution_count": 66,
   "metadata": {},
   "outputs": [],
   "source": [
    "def function_final(arg1:list) -> list:\n",
    "\n",
    "    if len(arg1) % 2 == 0:\n",
    "        arg1.pop()\n",
    "    else:\n",
    "        arg1.append(f_s(arg1))\n",
    "    \n",
    "    return arg1"
   ]
  },
  {
   "cell_type": "code",
   "execution_count": 68,
   "metadata": {},
   "outputs": [
    {
     "ename": "KeyboardInterrupt",
     "evalue": "",
     "output_type": "error",
     "traceback": [
      "\u001b[1;31m---------------------------------------------------------------------------\u001b[0m",
      "\u001b[1;31mKeyboardInterrupt\u001b[0m                         Traceback (most recent call last)",
      "\u001b[1;32mc:\\Users\\camil\\OneDrive\\Documentos\\GitHub\\GITHUb\\DS_PT_09_2023\\01-Ramp_Up\\02-Python\\02-Ejercicios de repaso\\Practice_7_while.ipynb Cell 37\u001b[0m line \u001b[0;36m1\n\u001b[1;32m----> <a href='vscode-notebook-cell:/c%3A/Users/camil/OneDrive/Documentos/GitHub/GITHUb/DS_PT_09_2023/01-Ramp_Up/02-Python/02-Ejercicios%20de%20repaso/Practice_7_while.ipynb#X53sZmlsZQ%3D%3D?line=0'>1</a>\u001b[0m \u001b[39mprint\u001b[39m(function_final(numeros_pares(\u001b[39m5\u001b[39;49m)))\n",
      "\u001b[1;32mc:\\Users\\camil\\OneDrive\\Documentos\\GitHub\\GITHUb\\DS_PT_09_2023\\01-Ramp_Up\\02-Python\\02-Ejercicios de repaso\\Practice_7_while.ipynb Cell 37\u001b[0m line \u001b[0;36m9\n\u001b[0;32m      <a href='vscode-notebook-cell:/c%3A/Users/camil/OneDrive/Documentos/GitHub/GITHUb/DS_PT_09_2023/01-Ramp_Up/02-Python/02-Ejercicios%20de%20repaso/Practice_7_while.ipynb#X53sZmlsZQ%3D%3D?line=4'>5</a>\u001b[0m lista1 \u001b[39m=\u001b[39m []\n\u001b[0;32m      <a href='vscode-notebook-cell:/c%3A/Users/camil/OneDrive/Documentos/GitHub/GITHUb/DS_PT_09_2023/01-Ramp_Up/02-Python/02-Ejercicios%20de%20repaso/Practice_7_while.ipynb#X53sZmlsZQ%3D%3D?line=5'>6</a>\u001b[0m a \u001b[39m=\u001b[39m random\u001b[39m.\u001b[39mrandint(\u001b[39m1\u001b[39m,\u001b[39m10\u001b[39m)\n\u001b[1;32m----> <a href='vscode-notebook-cell:/c%3A/Users/camil/OneDrive/Documentos/GitHub/GITHUb/DS_PT_09_2023/01-Ramp_Up/02-Python/02-Ejercicios%20de%20repaso/Practice_7_while.ipynb#X53sZmlsZQ%3D%3D?line=8'>9</a>\u001b[0m \u001b[39mwhile\u001b[39;00m \u001b[39mlen\u001b[39;49m(lista1) \u001b[39m<\u001b[39;49m arg1:\n\u001b[0;32m     <a href='vscode-notebook-cell:/c%3A/Users/camil/OneDrive/Documentos/GitHub/GITHUb/DS_PT_09_2023/01-Ramp_Up/02-Python/02-Ejercicios%20de%20repaso/Practice_7_while.ipynb#X53sZmlsZQ%3D%3D?line=9'>10</a>\u001b[0m     \u001b[39mif\u001b[39;00m a \u001b[39m%\u001b[39m \u001b[39m2\u001b[39m \u001b[39m==\u001b[39m \u001b[39m0\u001b[39m:\n\u001b[0;32m     <a href='vscode-notebook-cell:/c%3A/Users/camil/OneDrive/Documentos/GitHub/GITHUb/DS_PT_09_2023/01-Ramp_Up/02-Python/02-Ejercicios%20de%20repaso/Practice_7_while.ipynb#X53sZmlsZQ%3D%3D?line=10'>11</a>\u001b[0m         lista1\u001b[39m.\u001b[39mappend(a)\n",
      "\u001b[1;31mKeyboardInterrupt\u001b[0m: "
     ]
    }
   ],
   "source": [
    "print(function_final(numeros_pares(5)))\n"
   ]
  },
  {
   "cell_type": "markdown",
   "metadata": {},
   "source": [
    "!['nicetry'](https://i.pinimg.com/originals/36/ab/81/36ab81cd8d63cf7c4a08f39403698c77.jpg)"
   ]
  },
  {
   "cell_type": "code",
   "execution_count": null,
   "metadata": {},
   "outputs": [],
   "source": []
  }
 ],
 "metadata": {
  "kernelspec": {
   "display_name": "Python 3",
   "language": "python",
   "name": "python3"
  },
  "language_info": {
   "codemirror_mode": {
    "name": "ipython",
    "version": 3
   },
   "file_extension": ".py",
   "mimetype": "text/x-python",
   "name": "python",
   "nbconvert_exporter": "python",
   "pygments_lexer": "ipython3",
   "version": "3.11.5"
  }
 },
 "nbformat": 4,
 "nbformat_minor": 4
}
