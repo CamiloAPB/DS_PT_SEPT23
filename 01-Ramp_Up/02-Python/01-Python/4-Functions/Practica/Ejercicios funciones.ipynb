{
 "cells": [
  {
   "cell_type": "markdown",
   "metadata": {},
   "source": [
    "![imagen](./img/ejercicios.png)"
   ]
  },
  {
   "cell_type": "markdown",
   "metadata": {},
   "source": [
    "# Ejercicios funciones\n",
    "## Ejercicio 1\n",
    "Escribe una función que convierta números del 1 al 7 en nombres de los dias de la semana. La función constará de un único argumento numérico y una salida de tipo string"
   ]
  },
  {
   "cell_type": "code",
   "execution_count": 1,
   "metadata": {},
   "outputs": [],
   "source": [
    "def numeros_dias(num:int) -> str:\n",
    "    dia = \"\"\n",
    "    if num == 1:\n",
    "       dia = \"Lunes\"\n",
    "    elif num == 2:\n",
    "        dia = \"Martes\"\n",
    "    elif num == 3:\n",
    "        dia = \"Miercoles\"\n",
    "    elif num == 4:\n",
    "        dia = \"Jueves\"\n",
    "    elif num == 5:\n",
    "        dia = \"Viernes\"\n",
    "    elif num == 6:\n",
    "        dia = \"Sábado\"\n",
    "    elif num == 7:\n",
    "        dia = \"Domingo\"\n",
    "    else:\n",
    "        dia = \"Inserte numero correcto\"\n",
    "    return dia"
   ]
  },
  {
   "cell_type": "code",
   "execution_count": 2,
   "metadata": {},
   "outputs": [
    {
     "name": "stdout",
     "output_type": "stream",
     "text": [
      "Miercoles\n",
      "Inserte numero correcto\n"
     ]
    }
   ],
   "source": [
    "numeros_dias(8)\n",
    "print(numeros_dias(3))\n",
    "print(numeros_dias(10))"
   ]
  },
  {
   "cell_type": "code",
   "execution_count": 1,
   "metadata": {},
   "outputs": [],
   "source": [
    "def dia_semana(dia_num):\n",
    "    diccionario = {1:\"lunes\", 2:\"martes\", 3:\"miercoles\", 4:\"jueves\", 5:\"viernes\", 6:\"sabado\", 7:\"domingo\"}\n",
    "    \n",
    "    return diccionario.get(dia_num, \"ese no es un día de la semana\") #get funciona como try/except en diccionarios"
   ]
  },
  {
   "cell_type": "code",
   "execution_count": 29,
   "metadata": {},
   "outputs": [
    {
     "name": "stdout",
     "output_type": "stream",
     "text": [
      "martes\n"
     ]
    }
   ],
   "source": [
    "print(dia_semana(2))"
   ]
  },
  {
   "cell_type": "markdown",
   "metadata": {},
   "source": [
    "## Ejercicio 2\n",
    "En el ejercicio 8 de bucles, creábamos una pirámide invertida, cuyo número de pisos venía determinado por un input del usuario. Crea una función que replique el comportamiento de la pirámide, y utiliza un único parámetro de entrada de la función para determinar el número de filas de la pirámide, es decir, elimina la sentencia input."
   ]
  },
  {
   "cell_type": "code",
   "execution_count": 3,
   "metadata": {},
   "outputs": [],
   "source": [
    "def piramide_invertida(n:int) -> list:\n",
    "    n_filas = list(range(n,0,-1))\n",
    "    for f in n_filas.copy():\n",
    "        print(*n_filas)\n",
    "        n_filas.pop()\n",
    "    "
   ]
  },
  {
   "cell_type": "code",
   "execution_count": 5,
   "metadata": {},
   "outputs": [
    {
     "name": "stdout",
     "output_type": "stream",
     "text": [
      "6 5 4 3 2 1\n",
      "6 5 4 3 2\n",
      "6 5 4 3\n",
      "6 5 4\n",
      "6 5\n",
      "6\n"
     ]
    }
   ],
   "source": [
    "piramide_invertida(6)"
   ]
  },
  {
   "cell_type": "markdown",
   "metadata": {},
   "source": [
    "## Ejercicio 3\n",
    "Escibe una función que compare dos números. La función tiene dos argumentos y hay tres salidas posibles: que sean iguales, que el primero se  mayor que el segundo, o que el segundo sea mayor que el primero"
   ]
  },
  {
   "cell_type": "code",
   "execution_count": 6,
   "metadata": {},
   "outputs": [],
   "source": [
    "def num_comparison(x1:int, x2:int) -> bool:\n",
    "    comp = \"\"\n",
    "    if x1 == x2:\n",
    "        comp = \"Iguales\"\n",
    "    elif x1 > x2:\n",
    "        comp = \"El primero es mayor\"\n",
    "    else:\n",
    "        comp = \"El segundo es mayor\"\n",
    "    return comp"
   ]
  },
  {
   "cell_type": "code",
   "execution_count": 7,
   "metadata": {},
   "outputs": [
    {
     "name": "stdout",
     "output_type": "stream",
     "text": [
      "El segundo es mayor\n",
      "Iguales\n",
      "El primero es mayor\n"
     ]
    }
   ],
   "source": [
    "num_comparison(1,2)\n",
    "print(num_comparison(-9,1))\n",
    "print(num_comparison(10,10))\n",
    "print(num_comparison(120,-3))"
   ]
  },
  {
   "cell_type": "code",
   "execution_count": 2,
   "metadata": {},
   "outputs": [],
   "source": [
    "def comparado(x1:float, x2:float) -> str:\n",
    "\n",
    "    iguales = (x1 ==x2)\n",
    "    x1mayor = (x1 > x2)\n",
    "    x2mayor = (x1 < x2)\n",
    "\n",
    "    if iguales == True:\n",
    "        return f\"{x1} y {x2} tienen el mismo valor\"\n",
    "    elif x1mayor == True:\n",
    "        return f\"{x1} es mayor que {x2}\"\n",
    "    elif x2mayor == True:\n",
    "        return f\"{x2} es mayor que {x1}\""
   ]
  },
  {
   "cell_type": "code",
   "execution_count": 4,
   "metadata": {},
   "outputs": [
    {
     "name": "stdout",
     "output_type": "stream",
     "text": [
      "6 es mayor que 2\n",
      "4 y 4 tienen el mismo valor\n",
      "3.3 es mayor que 1\n"
     ]
    }
   ],
   "source": [
    "print(comparado(2,6))\n",
    "print(comparado(4,4))\n",
    "print(comparado(3.3, 1))"
   ]
  },
  {
   "cell_type": "markdown",
   "metadata": {},
   "source": [
    "## Ejercicio 4\n",
    "Escribe una función que sea un contador de letras. En el primer argumento tienes que introducir un texto, y el segundo que sea la letra a contar. La función tiene que devolver un entero con el número de veces que aparece esa letra, tanto mayuscula, como minúscula"
   ]
  },
  {
   "cell_type": "code",
   "execution_count": 8,
   "metadata": {},
   "outputs": [],
   "source": [
    "def cont_let(txt:str, ltr:str) -> int:\n",
    "    \n",
    "    try:\n",
    "        for l in txt:\n",
    "        \n",
    "            if txt.count(l) == txt.count(ltr.upper()):\n",
    "                up = txt.count(l)\n",
    "\n",
    "        print(\"En el texto hay\", up, ltr, \"mayúscula(s)\")\n",
    "\n",
    "    except: \n",
    "        print(\"Esa letra mayúscula no se encuentra en el texto\")\n",
    "\n",
    "    try: \n",
    "        for lmin in txt:\n",
    "            if txt.count(lmin) == txt.count(ltr.lower()):\n",
    "                low = txt.count(lmin)\n",
    "        print(\"En el texto hay\", low, ltr, \"minúscula(s)\")\n",
    "    except:\n",
    "        print(\"Esa letra minúscula no se encuentra en el texto\")\n"
   ]
  },
  {
   "cell_type": "code",
   "execution_count": 9,
   "metadata": {},
   "outputs": [
    {
     "name": "stdout",
     "output_type": "stream",
     "text": [
      "En el texto hay 1 b mayúscula(s)\n",
      "Esa letra minúscula no se encuentra en el texto\n"
     ]
    }
   ],
   "source": [
    "cont_let(\"Buenasj tardes Jose Luis, es jueves\", \"b\")"
   ]
  },
  {
   "cell_type": "code",
   "execution_count": 8,
   "metadata": {},
   "outputs": [],
   "source": [
    "def contador_letras(texto: str, ltr:str) -> int:\n",
    "\n",
    "    texto.lower()\n",
    "    return texto.count(str(ltr).lower())\n",
    "       "
   ]
  },
  {
   "cell_type": "code",
   "execution_count": 9,
   "metadata": {},
   "outputs": [
    {
     "data": {
      "text/plain": [
       "2"
      ]
     },
     "execution_count": 9,
     "metadata": {},
     "output_type": "execute_result"
    }
   ],
   "source": [
    "r = \"me llamo pepe\"\n",
    "r.count(\"h\")\n",
    "contador_letras(r, \"l\")"
   ]
  },
  {
   "cell_type": "markdown",
   "metadata": {},
   "source": [
    "## Ejercicio 5\n",
    "Escribe una función que tenga un único argumento, un string. La salida de la función tiene que ser un diccionario con el conteo de todas las letras de ese string."
   ]
  },
  {
   "cell_type": "code",
   "execution_count": null,
   "metadata": {},
   "outputs": [],
   "source": [
    "def contador_dict(argumento:str) -> dict:\n",
    "\n",
    "    diccionario = {}\n",
    "\n",
    "    argumento.lower()\n",
    "\n",
    "    for index, letras in enumerate(argumento):\n",
    "        "
   ]
  },
  {
   "cell_type": "markdown",
   "metadata": {},
   "source": [
    "## Ejercicio 6\n",
    "Escribir una función que añada o elimine elementos en una lista. La función necesita los siguientes argumentos:\n",
    "* lista: la lista donde se añadirán o eliminarán los elementos\n",
    "* comando: \"add\" o \"remove\"\n",
    "* elemento: Por defecto es None."
   ]
  },
  {
   "cell_type": "code",
   "execution_count": 10,
   "metadata": {},
   "outputs": [],
   "source": [
    "def lista_mod(lista:list, comando=True, elemento=None) -> list:\n",
    "\n",
    "    try:\n",
    "        if comando == True:\n",
    "            lista.append(elemento)\n",
    "        else:\n",
    "            lista.remove(elemento)\n",
    "        return(lista)\n",
    "    except:\n",
    "        return \"el elemento no está presente\""
   ]
  },
  {
   "cell_type": "code",
   "execution_count": 11,
   "metadata": {},
   "outputs": [
    {
     "name": "stdout",
     "output_type": "stream",
     "text": [
      "[0, 1, 2, 3, 4, None]\n",
      "[0, 1, 2, 3, 4, None, 'javier']\n",
      "el elemento no está presente\n"
     ]
    }
   ],
   "source": [
    "lista_prueba = list(range(5))\n",
    "print(lista_mod(lista_prueba))\n",
    "print(lista_mod(lista_prueba,elemento=\"javier\"))\n",
    "print(lista_mod(lista_prueba, False, 12))\n"
   ]
  },
  {
   "cell_type": "code",
   "execution_count": 26,
   "metadata": {},
   "outputs": [],
   "source": [
    "def lista_mod(lista:list, comando=True, elemento=None) -> list:\n",
    "\n",
    "    if comando == \"add\":\n",
    "        comando = True\n",
    "    elif comando == \"remove\":\n",
    "        comando = False\n",
    "        \n",
    "    try:\n",
    "        if comando == True:\n",
    "            lista.append(elemento)\n",
    "        else:\n",
    "            lista.remove(elemento)\n",
    "        return(lista)\n",
    "        \n",
    "    except:\n",
    "        return \"el elemento no está presente\"\n",
    "    \n",
    "\n",
    "    "
   ]
  },
  {
   "cell_type": "code",
   "execution_count": 27,
   "metadata": {},
   "outputs": [
    {
     "name": "stdout",
     "output_type": "stream",
     "text": [
      "[0, 1, 2, 3, 4, 8]\n",
      "el elemento no está presente\n",
      "el elemento no está presente\n"
     ]
    }
   ],
   "source": [
    "lista_prueba = list(range(5))\n",
    "print(lista_mod(lista_prueba, \"add\", 8))\n",
    "print(lista_mod(lista_prueba, \"hola\",elemento=\"javier\"))\n",
    "print(lista_mod(lista_prueba, \"remove\", 12))"
   ]
  },
  {
   "cell_type": "markdown",
   "metadata": {},
   "source": [
    "## Ejercicio 7\n",
    "Crea una función que reciba un número arbitrario de palabras, y devuelva una frase completa, separando las palabras con espacios."
   ]
  },
  {
   "cell_type": "code",
   "execution_count": null,
   "metadata": {},
   "outputs": [],
   "source": []
  },
  {
   "cell_type": "code",
   "execution_count": null,
   "metadata": {},
   "outputs": [],
   "source": []
  },
  {
   "cell_type": "markdown",
   "metadata": {},
   "source": [
    "## Ejercicio 8\n",
    "Escribe un programa que obtenga el enésimo número de la [serie de Fibonacci](https://es.wikipedia.org/wiki/Sucesi%C3%B3n_de_Fibonacci). Tienes que crear una función recursiva con un único argumento.\n",
    "\n",
    "```Python\n",
    "fibonacci(2) = 1\n",
    "fibonacci(4) = 3\n",
    "fibonacci(5) = 5\n",
    "fibonacci(8) = 21\n",
    "```"
   ]
  },
  {
   "cell_type": "code",
   "execution_count": null,
   "metadata": {},
   "outputs": [],
   "source": []
  },
  {
   "cell_type": "code",
   "execution_count": null,
   "metadata": {},
   "outputs": [],
   "source": []
  },
  {
   "cell_type": "markdown",
   "metadata": {},
   "source": [
    "## Ejercicio 9\n",
    "Define en una única celda las siguientes funciones:\n",
    "* Función que calcule el área de un cuadrado\n",
    "* Función que calcule el area de un triángulo\n",
    "* Función que calcule el área de un círculo\n",
    "\n",
    "En otra celda, calcular el area de:\n",
    "* Dos círculos de radio 10 + un triángulo de base 3 y altura 7\n",
    "* Un cuadrado de lado = 10 + 3 círculos (uno de radio = 4 y los otros dos de radio = 6) + 5 triángulos de base = 2 + altura = 4"
   ]
  },
  {
   "cell_type": "code",
   "execution_count": 156,
   "metadata": {},
   "outputs": [],
   "source": [
    "import math\n",
    "\n",
    "def area_cuadrado(lado:int) -> float:\n",
    "    area = lado**2\n",
    "    return area\n",
    "\n",
    "def area_triangulo(base:int, altura:int) -> float:\n",
    "    area = (base*altura)/2\n",
    "    return area\n",
    "\n",
    "def area_circulo(radio: int, npi = math.pi) -> float:\n",
    "    area = npi*(radio**2)\n",
    "    return area"
   ]
  },
  {
   "cell_type": "code",
   "execution_count": 157,
   "metadata": {},
   "outputs": [
    {
     "data": {
      "text/plain": [
       "113.09733552923255"
      ]
     },
     "execution_count": 157,
     "metadata": {},
     "output_type": "execute_result"
    }
   ],
   "source": [
    "area_cuadrado(4)\n",
    "area_triangulo(3,5)\n",
    "area_circulo(6)"
   ]
  },
  {
   "cell_type": "code",
   "execution_count": 158,
   "metadata": {},
   "outputs": [
    {
     "name": "stdout",
     "output_type": "stream",
     "text": [
      "638.8185307179587\n",
      "396.46015351590177\n"
     ]
    }
   ],
   "source": [
    "print(((area_circulo(10))*2) + (area_triangulo(3,7)))\n",
    "print(area_cuadrado(10) + (area_circulo(4) + (area_circulo(6))*2) + 5*(area_triangulo(2,4)))"
   ]
  },
  {
   "cell_type": "code",
   "execution_count": null,
   "metadata": {},
   "outputs": [],
   "source": []
  },
  {
   "cell_type": "code",
   "execution_count": null,
   "metadata": {},
   "outputs": [],
   "source": []
  }
 ],
 "metadata": {
  "kernelspec": {
   "display_name": "Python 3",
   "language": "python",
   "name": "python3"
  },
  "language_info": {
   "codemirror_mode": {
    "name": "ipython",
    "version": 3
   },
   "file_extension": ".py",
   "mimetype": "text/x-python",
   "name": "python",
   "nbconvert_exporter": "python",
   "pygments_lexer": "ipython3",
   "version": "3.11.5"
  }
 },
 "nbformat": 4,
 "nbformat_minor": 4
}
