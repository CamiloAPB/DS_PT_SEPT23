{
 "cells": [
  {
   "cell_type": "markdown",
   "metadata": {},
   "source": [
    "# Python | day 6 | dictionaries"
   ]
  },
  {
   "cell_type": "markdown",
   "metadata": {},
   "source": [
    "Los diccionarios se utilizan para almacenar valores de datos en pares clave:valor.\n",
    "\n",
    "Un diccionario es una colección desordenada, modificable y que no admite claves duplicadas.\n",
    "\n",
    "Los diccionarios se escriben entre llaves y tienen claves y valores:"
   ]
  },
  {
   "cell_type": "markdown",
   "metadata": {},
   "source": [
    "```python\n",
    "thisdict = {\n",
    "  \"brand\": \"Ford\",\n",
    "  \"model\": \"Mustang\",\n",
    "  \"year\": 1964\n",
    "}\n",
    "```"
   ]
  },
  {
   "cell_type": "markdown",
   "metadata": {},
   "source": [
    "### Ejercicio 1.\n",
    "\n",
    "1. Crea un diccionario con un entero 5 como clave y \"val\" como valor."
   ]
  },
  {
   "cell_type": "code",
   "execution_count": 1,
   "metadata": {},
   "outputs": [],
   "source": [
    "d1 = {\"val\":5}"
   ]
  },
  {
   "cell_type": "markdown",
   "metadata": {},
   "source": [
    "2. Crea dos listas: una con 4 nombres de ciudades y otra con 4 lugares emblemáticos de la ciudad."
   ]
  },
  {
   "cell_type": "code",
   "execution_count": 2,
   "metadata": {},
   "outputs": [],
   "source": [
    "city = [\"madrid\", \"bcn\", \"bilbo\", \"Sevilla\"]\n",
    "emblema = [\"cibeles\", \"carteristas\", \"guggenheim\", \"giralda\"]"
   ]
  },
  {
   "cell_type": "markdown",
   "metadata": {},
   "source": [
    "3. Crear un diccionario en el que las ciudades contenidas en la primera lista sean las **claves** y los puntos de referencia sean los **valores**.\n",
    "```python\n",
    "#example\n",
    "places = {\"Malaga\": \"Gibralfaro\", \n",
    "         \"Madrid\": \"Templo de Debod\",\n",
    "         \"Granada\": \"La Alcazaba\",\n",
    "         \"Barcelona\": \"Sagrada Familia\"}\n",
    "```"
   ]
  },
  {
   "cell_type": "code",
   "execution_count": 22,
   "metadata": {},
   "outputs": [
    {
     "name": "stdout",
     "output_type": "stream",
     "text": [
      "{'madrid': 'cibeles', 'bcn': 'carteristas', 'bilbo': 'guggenheim', 'Sevilla': 'giralda'}\n"
     ]
    }
   ],
   "source": [
    "places = {}\n",
    "\n",
    "for index, ciudad in enumerate(city):\n",
    "    index = emblema[index]\n",
    "    places.update({ciudad:index})\n",
    "\n",
    "\n",
    "print(places)"
   ]
  },
  {
   "cell_type": "markdown",
   "metadata": {},
   "source": [
    "4. Recorre el diccionario e imprime sólo los valores de las claves que empiecen por la letra **M**."
   ]
  },
  {
   "cell_type": "code",
   "execution_count": 47,
   "metadata": {},
   "outputs": [
    {
     "name": "stdout",
     "output_type": "stream",
     "text": [
      "['cibeles', 'carteristas', 'guggenheim', 'giralda']\n",
      "cibeles\n",
      "carteristas\n"
     ]
    }
   ],
   "source": [
    "a = list(places.values())\n",
    "print(a)\n",
    "\n",
    "for primera in a:\n",
    "    if primera[0] == \"c\":\n",
    "        print(primera)\n"
   ]
  },
  {
   "cell_type": "markdown",
   "metadata": {},
   "source": [
    "5. Crea una función que reciba como parámetros dos listas `lista1` y `lista2` y devuelva un diccionario con cada elemento de `lista1` como claves y los elementos de `lista2` como valores. Llama a la función con las listas que has creado antes para que devuelva el mismo diccionario que has creado en la pregunta 3."
   ]
  },
  {
   "cell_type": "code",
   "execution_count": 52,
   "metadata": {},
   "outputs": [],
   "source": [
    "def pictionario(lista1:list, lista2:list) -> dict:\n",
    "\n",
    "    diccionario12 = {}\n",
    "\n",
    "    for index, clave in enumerate(lista1):\n",
    "        index = lista2[index]\n",
    "        diccionario12.update({clave:index})\n",
    "    return diccionario12"
   ]
  },
  {
   "cell_type": "code",
   "execution_count": 53,
   "metadata": {},
   "outputs": [
    {
     "data": {
      "text/plain": [
       "{'madrid': 'cibeles',\n",
       " 'bcn': 'carteristas',\n",
       " 'bilbo': 'guggenheim',\n",
       " 'Sevilla': 'giralda'}"
      ]
     },
     "execution_count": 53,
     "metadata": {},
     "output_type": "execute_result"
    }
   ],
   "source": [
    "pictionario(city, emblema)"
   ]
  },
  {
   "cell_type": "markdown",
   "metadata": {},
   "source": [
    "### Ejercicio 2."
   ]
  },
  {
   "cell_type": "markdown",
   "metadata": {},
   "source": [
    "1. Crea un diccionario vacío llamado perro."
   ]
  },
  {
   "cell_type": "code",
   "execution_count": 55,
   "metadata": {},
   "outputs": [],
   "source": [
    "perro = dict()"
   ]
  },
  {
   "cell_type": "markdown",
   "metadata": {},
   "source": [
    "2. Añade nombre, color, raza, patas, edad al diccionario canino."
   ]
  },
  {
   "cell_type": "code",
   "execution_count": 57,
   "metadata": {},
   "outputs": [
    {
     "name": "stdout",
     "output_type": "stream",
     "text": [
      "{'color': '', 'raza': '', 'patas': 4, 'edad': ''}\n"
     ]
    }
   ],
   "source": [
    "perro.update({\"color\":\"\",\"raza\":\"\", \"patas\":4, \"edad\": \"\"})\n",
    "print(perro)"
   ]
  },
  {
   "cell_type": "markdown",
   "metadata": {},
   "source": [
    "3. Cree un diccionario de alumnos y añada nombre_apellido, edad, habilidades, país, ciudad y dirección como claves del diccionario.\n"
   ]
  },
  {
   "cell_type": "code",
   "execution_count": 73,
   "metadata": {},
   "outputs": [],
   "source": [
    "alumnos = {\n",
    "    \"nombre_apellido\": \"camilo prieto\",\n",
    "    \"edad\": 26,\n",
    "    \"habilidades\": [\"lectura mapa\", \"shotcalling\", \"conocimiento meta\"],\n",
    "    \"país\": \"colombia\",\n",
    "    \"ciudad\": \"madrid\",\n",
    "    \"dirección\": \"su casa\"\n",
    "}"
   ]
  },
  {
   "cell_type": "markdown",
   "metadata": {},
   "source": [
    "4. Obtenga la longitud del diccionario del alumno.\n"
   ]
  },
  {
   "cell_type": "code",
   "execution_count": 59,
   "metadata": {},
   "outputs": [
    {
     "data": {
      "text/plain": [
       "6"
      ]
     },
     "execution_count": 59,
     "metadata": {},
     "output_type": "execute_result"
    }
   ],
   "source": [
    "len(alumnos)"
   ]
  },
  {
   "cell_type": "markdown",
   "metadata": {},
   "source": [
    "5. Obtén el valor de skills y comprueba el tipo de datos, debe ser una lista."
   ]
  },
  {
   "cell_type": "code",
   "execution_count": 61,
   "metadata": {},
   "outputs": [
    {
     "data": {
      "text/plain": [
       "['lectura mapa', 'shotcalling', 'conocimiento meta']"
      ]
     },
     "execution_count": 61,
     "metadata": {},
     "output_type": "execute_result"
    }
   ],
   "source": [
    "alumnos[\"habilidades\"]"
   ]
  },
  {
   "cell_type": "markdown",
   "metadata": {},
   "source": [
    "6. Modifica los valores de las habilidades añadiendo una o dos habilidades."
   ]
  },
  {
   "cell_type": "code",
   "execution_count": 66,
   "metadata": {},
   "outputs": [
    {
     "name": "stdout",
     "output_type": "stream",
     "text": [
      "['lectura mapa', 'shotcalling', 'conocimiento meta', 'mid god']\n"
     ]
    }
   ],
   "source": [
    "alumnos[\"habilidades\"].append(\"mid god\")\n",
    "print(alumnos[\"habilidades\"])"
   ]
  },
  {
   "cell_type": "markdown",
   "metadata": {},
   "source": [
    "7. Obtener las claves del diccionario como una lista."
   ]
  },
  {
   "cell_type": "code",
   "execution_count": 68,
   "metadata": {},
   "outputs": [
    {
     "name": "stdout",
     "output_type": "stream",
     "text": [
      "dict_keys(['nombre_apellido', 'edad', 'habilidades', 'país', 'ciudad', 'dirección'])\n"
     ]
    }
   ],
   "source": [
    "print(alumnos.keys())"
   ]
  },
  {
   "cell_type": "markdown",
   "metadata": {},
   "source": [
    "8. Obtener los valores del diccionario como una lista.\n"
   ]
  },
  {
   "cell_type": "code",
   "execution_count": 69,
   "metadata": {},
   "outputs": [
    {
     "name": "stdout",
     "output_type": "stream",
     "text": [
      "dict_values(['camilo prieto', 26, ['lectura mapa', 'shotcalling', 'conocimiento meta', 'mid god'], 'colombia', 'madrid', 'su casa'])\n"
     ]
    }
   ],
   "source": [
    "print(alumnos.values())"
   ]
  },
  {
   "cell_type": "markdown",
   "metadata": {},
   "source": [
    "9. Cambiar el diccionario a una lista de tuplas utilizando el método `items()`."
   ]
  },
  {
   "cell_type": "code",
   "execution_count": 70,
   "metadata": {},
   "outputs": [
    {
     "data": {
      "text/plain": [
       "dict_items([('nombre_apellido', 'camilo prieto'), ('edad', 26), ('habilidades', ['lectura mapa', 'shotcalling', 'conocimiento meta', 'mid god']), ('país', 'colombia'), ('ciudad', 'madrid'), ('dirección', 'su casa')])"
      ]
     },
     "execution_count": 70,
     "metadata": {},
     "output_type": "execute_result"
    }
   ],
   "source": [
    "alumnos.items()"
   ]
  },
  {
   "cell_type": "markdown",
   "metadata": {},
   "source": [
    "10. Elimine uno de los elementos del diccionario.\n"
   ]
  },
  {
   "cell_type": "code",
   "execution_count": 74,
   "metadata": {},
   "outputs": [
    {
     "name": "stdout",
     "output_type": "stream",
     "text": [
      "{'nombre_apellido': 'camilo prieto', 'edad': 26, 'país': 'colombia', 'ciudad': 'madrid', 'dirección': 'su casa'}\n"
     ]
    }
   ],
   "source": [
    "alumnos.pop(\"habilidades\")\n",
    "print(alumnos)"
   ]
  },
  {
   "cell_type": "markdown",
   "metadata": {},
   "source": [
    "### Bonus Track"
   ]
  },
  {
   "cell_type": "markdown",
   "metadata": {},
   "source": [
    "**Tómate una cervecita o un zumito a tu salud.**"
   ]
  },
  {
   "cell_type": "markdown",
   "metadata": {},
   "source": [
    "!['daughter'](https://i.pinimg.com/originals/8f/35/28/8f35281e742e71be09697e7e6789b819.png)"
   ]
  },
  {
   "cell_type": "code",
   "execution_count": null,
   "metadata": {},
   "outputs": [],
   "source": []
  }
 ],
 "metadata": {
  "kernelspec": {
   "display_name": "Python 3",
   "language": "python",
   "name": "python3"
  },
  "language_info": {
   "codemirror_mode": {
    "name": "ipython",
    "version": 3
   },
   "file_extension": ".py",
   "mimetype": "text/x-python",
   "name": "python",
   "nbconvert_exporter": "python",
   "pygments_lexer": "ipython3",
   "version": "3.11.5"
  }
 },
 "nbformat": 4,
 "nbformat_minor": 2
}
