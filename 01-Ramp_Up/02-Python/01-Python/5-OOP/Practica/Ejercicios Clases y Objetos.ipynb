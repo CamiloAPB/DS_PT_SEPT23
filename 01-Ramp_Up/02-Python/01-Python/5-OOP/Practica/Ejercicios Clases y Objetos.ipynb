{
 "cells": [
  {
   "cell_type": "markdown",
   "metadata": {},
   "source": [
    "![imagen](./img/ejercicios.png)\n",
    "\n",
    "# Ejercicios Clases y Objetos"
   ]
  },
  {
   "cell_type": "markdown",
   "metadata": {},
   "source": [
    "## Ejercicio 1\n",
    "Somos una empresa que tiene varias tiendas de electrodomesticos. Necesitamos un programa para manejar las tiendas, ver las ventas que han tenido, cuántos empleados hay, etc... Para ello vamos a modelizar la tienda en una clase, que tendrá las siguientes características:\n",
    "* Nombre clase: \"Tienda\"\n",
    "* Atributos comunes:\n",
    "    * Tipo: \"Electrodomésticos\"\n",
    "    * Abierta: True\n",
    "* Atributos propios de cada tienda:\n",
    "    * Nombre - String\n",
    "    * Dirección - String\n",
    "    * Número de empleados - int\n",
    "    * Ventas ultimos 3 meses - Lista de 3 numeros\n",
    "* Método para calcular las ventas de todos los meses, que devuelva un numero con todas las ventas.\n",
    "* Método que calcula la media de ventas de los ultimos meses, por empleado\n",
    "* Método que devuelve en un string el nombre de la tienda, junto con su dirección.\n",
    "* Método que obtiene las ventas del último mes.\n",
    "* Método para dar una proyección de las ventas en caso de haber invertido X dinero en marketing en esa tienda. Siendo X el parámetro de entrada. Si X es menor de 1000, las ventas de los ultimos 3 meses hubiesen sido de (1.2 x ventas), si es mayor o igual de 1000, las ventas hubiesen sido de (1.5 x venta). El método reescribe el atributo de ventas en los últimos 3 meses, y además devuelve las ventas con el aumento.\n",
    "\n",
    "Se pide:\n",
    "1. Implementar la clase \"Tienda\"\n",
    "2. Crear tres tiendas con datos inventados\n",
    "3. Comprueba en al menos una de ellas, todo lo implementado en la clase tienda (sus atributos, media de ventas, ventas/empleado...)\n",
    "3. Calcular las ventas del último mes de todas las tiendas. Para ello usa el bucle `for`\n",
    "4. Imprime por pantalla los nombres de las tiendas cuya dirección lleve el string \"Avenida\"\n",
    "5. Seguro que ya has hecho este apartado... Documenta la clase :)"
   ]
  },
  {
   "cell_type": "code",
   "execution_count": 5,
   "metadata": {},
   "outputs": [],
   "source": [
    "class Tienda:\n",
    "\n",
    "    \"\"\"Clase para las tiendas de la empresa\n",
    "    parametros\n",
    "    - Tienda: 'Electrodomésticos'\n",
    "    - Abierta: True\n",
    "    parametros propios:\n",
    "    - Nombre -> string\n",
    "    - Dirección -> string\n",
    "    - Numero de empleados -> int\n",
    "    - Ventas ultimos 3 meses -> lista 3 int\n",
    "    \"\"\"\n",
    "\n",
    "    Tipo = \"Electrodomésticos\"\n",
    "    Abierta = True\n",
    "\n",
    "    def __init__(self, nombre:str, dir:str, n_empleados:int, ventas_3meses:list):\n",
    "\n",
    "        \"\"\"\n",
    "        nombre es el string con el nombre de la tienda\n",
    "        dir es el string con la dirección de la tienda\n",
    "        n_empleados es un int con el número de empleados de la tienda\n",
    "        ventas_3meses es una lista de tres numeros, cada uno representa el valor de las ventas de los últimos 3 meses\n",
    "        \n",
    "        \"\"\"\n",
    "\n",
    "        self.nombre = nombre\n",
    "        self.dir = dir\n",
    "        self.n_empleados = n_empleados\n",
    "        self.ventas_3meses = ventas_3meses\n",
    "\n",
    "    def acumulado_ventas(self) -> float:\n",
    "        \"\"\"\n",
    "        calcula la suma de las ventas de los 3 últimos meses\n",
    "        \"\"\"\n",
    "        return sum(self.ventas_3meses)\n",
    "\n",
    "    def media_ventas(self) -> float:\n",
    "        \"\"\"\n",
    "        calcula la media de ventas de los ultimos 3 meses por empleado\n",
    "        \"\"\"\n",
    "        return ((sum(self.ventas_3meses)/3)/self.n_empleados)\n",
    "    \n",
    "    def info_tienda(self) -> str:\n",
    "        \"\"\"\n",
    "        devuelve un string con la información de nombre y dirección de la tienda\n",
    "        \"\"\"\n",
    "        return self.nombre + \" se encuenta ubicada en \" + self.dir\n",
    "    \n",
    "    def proyeccion_ventas(self, x) -> float:\n",
    "        \"\"\"\n",
    "        calcula como hubieran sido las ventas con 'x' inversión en marketing, y devuelve las ventas modificadas como si se hubiera hecho\n",
    "        la inversión\n",
    "        \"\"\"\n",
    "        if x < 1000:\n",
    "            for mes, ventas in enumerate(self.ventas_3meses):\n",
    "                self.ventas_3meses[mes] = ventas*1.2\n",
    "        elif x  >= 1000:\n",
    "            for mes, ventas in enumerate(self.ventas_3meses):\n",
    "                self.ventas_3meses[mes] = ventas*1.5\n",
    "        return self.ventas_3meses"
   ]
  },
  {
   "cell_type": "code",
   "execution_count": 6,
   "metadata": {},
   "outputs": [],
   "source": [
    "tienda1 = Tienda(\"expert\", \"Calle Principal, Capital provincial\", 5, [30000, 50000, 70000])\n",
    "tienda2 = Tienda(\"expert city\", \"Plaza mayor, Ciudad Princopal\", 12, [120000, 345987, 345623])\n",
    "tienda3 = Tienda(\"expert xprss\", \"Avenida Afueras, Ciudad Principal\", 3, [1000, 250, 4000])"
   ]
  },
  {
   "cell_type": "code",
   "execution_count": 7,
   "metadata": {},
   "outputs": [
    {
     "name": "stdout",
     "output_type": "stream",
     "text": [
      "Electrodomésticos\n",
      "True\n",
      "expert\n",
      "Calle Principal, Capital provincial\n",
      "5\n",
      "[30000, 50000, 70000]\n",
      "150000\n",
      "10000.0\n",
      "expert se encuenta ubicada en Calle Principal, Capital provincial\n",
      "[45000.0, 75000.0, 105000.0]\n",
      "[54000.0, 90000.0, 126000.0]\n",
      "Clase para las tiendas de la empresa\n",
      "    parametros\n",
      "    - Tienda: 'Electrodomésticos'\n",
      "    - Abierta: True\n",
      "    parametros propios:\n",
      "    - Nombre -> string\n",
      "    - Dirección -> string\n",
      "    - Numero de empleados -> int\n",
      "    - Ventas ultimos 3 meses -> lista 3 int\n",
      "    \n",
      "\n",
      "        nombre es el string con el nombre de la tienda\n",
      "        dir es el string con la dirección de la tienda\n",
      "        n_empleados es un int con el número de empleados de la tienda\n",
      "        ventas_3meses es una lista de tres numeros, cada uno representa el valor de las ventas de los últimos 3 meses\n",
      "        \n",
      "        \n",
      "\n",
      "        calcula la suma de las ventas de los 3 últimos meses\n",
      "        \n"
     ]
    }
   ],
   "source": [
    "tienda1\n",
    "print(tienda1.Tipo)\n",
    "print(tienda1.Abierta)\n",
    "print(tienda1.nombre)\n",
    "print(tienda1.dir)\n",
    "print(tienda1.n_empleados)\n",
    "print(tienda1.ventas_3meses)\n",
    "print(tienda1.acumulado_ventas())\n",
    "print(tienda1.media_ventas())\n",
    "print(tienda1.info_tienda())\n",
    "print(tienda1.proyeccion_ventas(1000))\n",
    "print(tienda1.proyeccion_ventas(999))\n",
    "print(tienda1.__doc__)\n",
    "print(tienda1.__init__.__doc__)\n",
    "print(tienda1.acumulado_ventas.__doc__)"
   ]
  },
  {
   "cell_type": "code",
   "execution_count": 8,
   "metadata": {},
   "outputs": [
    {
     "data": {
      "text/plain": [
       "475623.0"
      ]
     },
     "execution_count": 8,
     "metadata": {},
     "output_type": "execute_result"
    }
   ],
   "source": [
    "tienda1\n",
    "tienda2\n",
    "tienda3\n",
    "ultimo_mes = []\n",
    "\n",
    "for ventas in tienda1.ventas_3meses, tienda2.ventas_3meses, tienda3.ventas_3meses:\n",
    "    ultimo_mes = [tienda1.ventas_3meses[-1], tienda2.ventas_3meses[-1], tienda3.ventas_3meses[-1]]\n",
    "    \n",
    "sum(ultimo_mes)"
   ]
  },
  {
   "cell_type": "code",
   "execution_count": 9,
   "metadata": {},
   "outputs": [
    {
     "name": "stdout",
     "output_type": "stream",
     "text": [
      "Avenida Afueras, Ciudad Principal\n"
     ]
    }
   ],
   "source": [
    "direcciones =[tienda1.dir, tienda2.dir, tienda3.dir]\n",
    "for direccion in direcciones:\n",
    "    if \"avenida\" in direccion.lower():\n",
    "        print(direccion)"
   ]
  },
  {
   "cell_type": "code",
   "execution_count": null,
   "metadata": {},
   "outputs": [],
   "source": []
  },
  {
   "cell_type": "code",
   "execution_count": null,
   "metadata": {},
   "outputs": [],
   "source": []
  },
  {
   "cell_type": "markdown",
   "metadata": {},
   "source": [
    "## Ejercicio 2\n",
    "En este ejercicio vamos a implementar una clase *Perro* en Python. La clase tiene las siguientes características:\n",
    "* Cosas que sabemos seguro que tiene un perro\n",
    "    * Tiene 4 patas\n",
    "    * 2 orejas\n",
    "    * 2 ojos\n",
    "    * Una velocidad de 0. Por defecto, el perro está parado\n",
    "* Cuando se inicialice:\n",
    "    * El perro será de una determinada raza\n",
    "    * Por defecto tendrá pelo \"Marrón\", a no ser que se diga lo contrario.\n",
    "    * Por defecto no tendrá dueño, a no ser que se diga lo contrario.\n",
    "    \n",
    "* Dispondrá también de un método llamado andar, que tiene un argumento de entrada (aumento_velocidad). Este valor se le sumará a la velocidad que ya llevaba el perro.\n",
    "* Necesita otro método (parar), donde pondremos la velocidad a 0.\n",
    "* Otro método llamado \"ladrar\", que tendrá un argumento de entrada, y la salida será el siguiente string: \"GUAU!\" + el argumento de entrada.\n",
    "\n",
    "\n",
    "Se pide:\n",
    "* Implementa la clase *Perro*\n",
    "* Crea un objeto de tipo *Perro*, sin dueño\n",
    "* Comprueba que están bien todos sus atributos\n",
    "* Prueba que ande, y comprueba su velocidad\n",
    "* Páralo\n",
    "* Documenta la clase *Perro*"
   ]
  },
  {
   "cell_type": "code",
   "execution_count": 10,
   "metadata": {},
   "outputs": [],
   "source": [
    "class Perro:\n",
    "    \n",
    "    \"\"\"\n",
    "    Clase que define a un Perro. \n",
    "    Atributos fijos:\n",
    "    - Patas: 4\n",
    "    - Orejas: 2\n",
    "    - Ojos: 2\n",
    "    Atributos variables:\n",
    "     - Velocidad : numero por defecto 0 \n",
    "     - Pelo: string por defecto 'Marrón'\n",
    "     - Dueño: Bool por defecto False\n",
    "    \"\"\"\n",
    "\n",
    "    patas = 4\n",
    "    orejas = 2\n",
    "    ojos = 2\n",
    "\n",
    "    def __init__(self, raza, velocidad=0, pelo=\"Marrón\", dueno=False):\n",
    "        \"\"\"\n",
    "        este init define los atributos variables\n",
    "        - velocidad un numero que por defecto es 0\n",
    "        - pelo un string que por defecto es 'Marrón'\"\n",
    "        - dueno que es un bool de si tiene dueño o no por defecto False\n",
    "        - raza string de la raza\n",
    "\n",
    "        \"\"\"\n",
    "        self.velocidad = velocidad\n",
    "        self.pelo = pelo\n",
    "        self.dueno = dueno\n",
    "        self.raza = raza\n",
    "\n",
    "    def andar(self, aumento_velocidad:int) -> float:\n",
    "        \"\"\"\n",
    "        Calcula el aumento de velocidad del perro\n",
    "        \"\"\"\n",
    "        self.velocidad = self.velocidad + aumento_velocidad\n",
    "        #return self.velocidad\n",
    "\n",
    "    def parar(self) -> int:\n",
    "        \"\"\"\n",
    "        Devuelve velocidad a 0\n",
    "        \"\"\"\n",
    "        self.velocidad = 0\n",
    "        #return self.velocidad\n",
    "    \n",
    "    def ladrar(self, entrada:str) ->str:\n",
    "        \"\"\"\n",
    "        Imprime un mensaje\n",
    "        \"\"\"\n",
    "        return \"GUAU! \" + entrada"
   ]
  },
  {
   "cell_type": "code",
   "execution_count": 15,
   "metadata": {},
   "outputs": [],
   "source": [
    "perrito = Perro(\"golen retriever\")"
   ]
  },
  {
   "cell_type": "code",
   "execution_count": 16,
   "metadata": {},
   "outputs": [
    {
     "name": "stdout",
     "output_type": "stream",
     "text": [
      "4\n",
      "2\n",
      "2\n",
      "0\n",
      "Marrón\n",
      "False\n",
      "golen retriever\n"
     ]
    }
   ],
   "source": [
    "print(perrito.patas)\n",
    "print(perrito.orejas)\n",
    "print(perrito.ojos)\n",
    "print(perrito.velocidad)\n",
    "print(perrito.pelo)\n",
    "print(perrito.dueno)\n",
    "print(perrito.raza)\n"
   ]
  },
  {
   "cell_type": "code",
   "execution_count": 85,
   "metadata": {},
   "outputs": [
    {
     "name": "stdout",
     "output_type": "stream",
     "text": [
      "10\n"
     ]
    }
   ],
   "source": [
    "perrito.andar(10)\n",
    "print(perrito.velocidad)"
   ]
  },
  {
   "cell_type": "code",
   "execution_count": 17,
   "metadata": {},
   "outputs": [
    {
     "name": "stdout",
     "output_type": "stream",
     "text": [
      "0\n",
      "{'velocidad': 0, 'pelo': 'Marrón', 'dueno': False, 'raza': 'golen retriever'}\n"
     ]
    }
   ],
   "source": [
    "perrito.parar()\n",
    "print(perrito.velocidad)\n",
    "print(perrito.__dict__)"
   ]
  },
  {
   "cell_type": "markdown",
   "metadata": {},
   "source": [
    "También puedo modificar argumentos fijos del inicio en un argumento a parte de lo del argumento"
   ]
  }
 ],
 "metadata": {
  "kernelspec": {
   "display_name": "Python 3",
   "language": "python",
   "name": "python3"
  },
  "language_info": {
   "codemirror_mode": {
    "name": "ipython",
    "version": 3
   },
   "file_extension": ".py",
   "mimetype": "text/x-python",
   "name": "python",
   "nbconvert_exporter": "python",
   "pygments_lexer": "ipython3",
   "version": "3.11.5"
  }
 },
 "nbformat": 4,
 "nbformat_minor": 4
}
