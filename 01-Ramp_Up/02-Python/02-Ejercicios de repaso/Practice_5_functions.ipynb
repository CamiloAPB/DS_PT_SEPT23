{
 "cells": [
  {
   "cell_type": "markdown",
   "metadata": {},
   "source": [
    "# Python | day 5 | functions"
   ]
  },
  {
   "cell_type": "markdown",
   "metadata": {},
   "source": [
    "En Python, una función es un grupo de sentencias relacionadas que realizan una tarea específica."
   ]
  },
  {
   "cell_type": "markdown",
   "metadata": {},
   "source": [
    "#### Diferencia entre `return` e `print`.\n",
    "\n",
    "Tómate unos minutos para entender la diferencia entre `return` e `print`, parece que son lo mismo, pero no lo son y es importante que entiendas la diferencia."
   ]
  },
  {
   "cell_type": "code",
   "execution_count": 1,
   "metadata": {},
   "outputs": [
    {
     "name": "stdout",
     "output_type": "stream",
     "text": [
      "2\n",
      "4\n",
      "8\n"
     ]
    }
   ],
   "source": [
    "def suma(a,b):\n",
    "    print(a)\n",
    "    return a+b\n",
    "\n",
    "print(suma(suma(2,2),4))"
   ]
  },
  {
   "cell_type": "markdown",
   "metadata": {},
   "source": [
    "#### Comentarios en una función."
   ]
  },
  {
   "cell_type": "code",
   "execution_count": 2,
   "metadata": {},
   "outputs": [],
   "source": [
    "def say_hello(name):\n",
    "    \"\"\"\n",
    "    Given a name as an argument, \n",
    "    the function return a string greeting\n",
    "    the name given. \n",
    "    \"\"\"\n",
    "    return f\"hello {name}\""
   ]
  },
  {
   "cell_type": "code",
   "execution_count": 3,
   "metadata": {},
   "outputs": [
    {
     "name": "stdout",
     "output_type": "stream",
     "text": [
      "hello Clara\n"
     ]
    }
   ],
   "source": [
    "print(say_hello(\"Clara\"))"
   ]
  },
  {
   "cell_type": "code",
   "execution_count": 4,
   "metadata": {},
   "outputs": [
    {
     "name": "stdout",
     "output_type": "stream",
     "text": [
      "Help on function say_hello in module __main__:\n",
      "\n",
      "say_hello(name)\n",
      "    Given a name as an argument, \n",
      "    the function return a string greeting\n",
      "    the name given.\n",
      "\n"
     ]
    }
   ],
   "source": [
    "help(say_hello)"
   ]
  },
  {
   "cell_type": "markdown",
   "metadata": {},
   "source": [
    "### Ejercicio 1."
   ]
  },
  {
   "cell_type": "markdown",
   "metadata": {},
   "source": [
    "Para resolver los siguientes ejercicios será necesario definir una función para cada apartado. Elige el nombre de esas funciones a menos que se especifique, pero asegúrate de definir un único parámetro `cualquiera_lista`, al llamar a la función corresponderá a la variable `info_lista`.\n"
   ]
  },
  {
   "cell_type": "code",
   "execution_count": 4,
   "metadata": {},
   "outputs": [],
   "source": [
    "# puedes utilizar esta lista o tomar la tuya de la Práctica 3\n",
    "info_list = [15, 'Recoletos', True, ['Recoletos', 15],  None, '8'] "
   ]
  },
  {
   "cell_type": "markdown",
   "metadata": {},
   "source": [
    "1. Muestra en pantalla `\"Me gusta la tranquilidad\"` si te gusta más la montaña y `\"Me encantaría vivir en Málaga\"` si te gusta más la playa.\n",
    "\n",
    "**Recuerda que debes definir una función que haga exactamente eso pero para una lista llamada `cualquira_lista`.\n",
    "Una vez hecho esto, llama a la función con `info_list` como argumento."
   ]
  },
  {
   "cell_type": "code",
   "execution_count": 10,
   "metadata": {},
   "outputs": [],
   "source": [
    "def preferencias(cualquiera_lista:list) -> str:\n",
    "    \n",
    "    \"\"\"\n",
    "    Imprime por pantalla un mensaje dependiendo de la opción en gusto personal\n",
    "    \"\"\"\n",
    "\n",
    "    if cualquiera_lista[2] == True:\n",
    "        print(\"Me encantaría vivir en málaga\")\n",
    "    else:\n",
    "        print(\"Me gusta la tranquilidad\")"
   ]
  },
  {
   "cell_type": "code",
   "execution_count": 7,
   "metadata": {},
   "outputs": [
    {
     "name": "stdout",
     "output_type": "stream",
     "text": [
      "Me encantaría vivir en málaga\n"
     ]
    }
   ],
   "source": [
    "preferencias(info_list)"
   ]
  },
  {
   "cell_type": "markdown",
   "metadata": {},
   "source": [
    "2. Imprime **\"Hoy estoy cansado\"** si has dormido menos de 7 horas o **\"Hoy conquisto el mundo\"** si has dormido más de 7 horas."
   ]
  },
  {
   "cell_type": "code",
   "execution_count": 8,
   "metadata": {},
   "outputs": [],
   "source": [
    "def energia(lista:list) -> str:\n",
    "\n",
    "    \"imprime por pantalla un mensaje según las horas de sueño\"\n",
    "\n",
    "    if int(lista[-1]) <= 7:\n",
    "        print(\"Hoy estoy cansado\")\n",
    "    else:\n",
    "        print(\"Hoy conquito el mundo\")"
   ]
  },
  {
   "cell_type": "code",
   "execution_count": 9,
   "metadata": {},
   "outputs": [
    {
     "name": "stdout",
     "output_type": "stream",
     "text": [
      "Hoy conquito el mundo\n"
     ]
    }
   ],
   "source": [
    "energia(info_list)"
   ]
  },
  {
   "cell_type": "markdown",
   "metadata": {},
   "source": [
    "3. Recorrer `cualquira_lista` para imprimir todos los elementos que contiene. Esta función debe devolver la lista convertida en tupla."
   ]
  },
  {
   "cell_type": "code",
   "execution_count": 11,
   "metadata": {},
   "outputs": [],
   "source": [
    "def tupla(cualquiera_lista:list) -> tuple:\n",
    "\n",
    "    for i in cualquiera_lista:\n",
    "        print(i)\n",
    "    return tuple(cualquiera_lista)"
   ]
  },
  {
   "cell_type": "code",
   "execution_count": 12,
   "metadata": {},
   "outputs": [
    {
     "name": "stdout",
     "output_type": "stream",
     "text": [
      "15\n",
      "Recoletos\n",
      "True\n",
      "['Recoletos', 15]\n",
      "None\n",
      "8\n"
     ]
    },
    {
     "data": {
      "text/plain": [
       "(15, 'Recoletos', True, ['Recoletos', 15], None, '8')"
      ]
     },
     "execution_count": 12,
     "metadata": {},
     "output_type": "execute_result"
    }
   ],
   "source": [
    "tupla(info_list)"
   ]
  },
  {
   "cell_type": "markdown",
   "metadata": {},
   "source": [
    "4. Recorrer `cualquira_lista` para imprimir todos los elementos que contiene concatenados con la cadena `\"--> OK\"`. Esta función debe devolver un mensaje diciendo, `\"everything will be ok\"`.\n"
   ]
  },
  {
   "cell_type": "code",
   "execution_count": 15,
   "metadata": {},
   "outputs": [],
   "source": [
    "def ok(cualquiera_lista:list) -> str:\n",
    "\n",
    "    for i in cualquiera_lista:\n",
    "        print(f\"{i}  --> OK\")\n",
    "    return \"everything will be ok\""
   ]
  },
  {
   "cell_type": "code",
   "execution_count": 16,
   "metadata": {},
   "outputs": [
    {
     "name": "stdout",
     "output_type": "stream",
     "text": [
      "15  --> OK\n",
      "Recoletos  --> OK\n",
      "True  --> OK\n",
      "['Recoletos', 15]  --> OK\n",
      "None  --> OK\n",
      "8  --> OK\n"
     ]
    },
    {
     "data": {
      "text/plain": [
       "'everything will be ok'"
      ]
     },
     "execution_count": 16,
     "metadata": {},
     "output_type": "execute_result"
    }
   ],
   "source": [
    "ok(info_list)"
   ]
  },
  {
   "cell_type": "markdown",
   "metadata": {},
   "source": [
    "5. Recorrer `cualquira_lista` para mostrar todos los elementos que contiene excepto el primero. Esta función debe devolver el primer elemento de la lista."
   ]
  },
  {
   "cell_type": "code",
   "execution_count": 17,
   "metadata": {},
   "outputs": [],
   "source": [
    "def primero(cualquiera_lista:str) -> list:\n",
    "\n",
    "    print(cualquiera_lista[1:])\n",
    "    return cualquiera_lista[0]"
   ]
  },
  {
   "cell_type": "code",
   "execution_count": 18,
   "metadata": {},
   "outputs": [
    {
     "name": "stdout",
     "output_type": "stream",
     "text": [
      "['Recoletos', True, ['Recoletos', 15], None, '8']\n"
     ]
    },
    {
     "data": {
      "text/plain": [
       "15"
      ]
     },
     "execution_count": 18,
     "metadata": {},
     "output_type": "execute_result"
    }
   ],
   "source": [
    "primero(info_list)"
   ]
  },
  {
   "cell_type": "markdown",
   "metadata": {},
   "source": [
    "6. Recorrer `cualquira_lista` para mostrar todos los elementos que contiene excepto el último. Esta función debe devolver el último elemento de la lista."
   ]
  },
  {
   "cell_type": "code",
   "execution_count": 19,
   "metadata": {},
   "outputs": [],
   "source": [
    "def ultimo(cualquiera_lista:list) -> list:\n",
    "\n",
    "    print(cualquiera_lista[:-1])\n",
    "    return cualquiera_lista[-1]"
   ]
  },
  {
   "cell_type": "code",
   "execution_count": 20,
   "metadata": {},
   "outputs": [
    {
     "name": "stdout",
     "output_type": "stream",
     "text": [
      "[15, 'Recoletos', True, ['Recoletos', 15], None]\n"
     ]
    },
    {
     "data": {
      "text/plain": [
       "'8'"
      ]
     },
     "execution_count": 20,
     "metadata": {},
     "output_type": "execute_result"
    }
   ],
   "source": [
    "ultimo(info_list)"
   ]
  },
  {
   "cell_type": "markdown",
   "metadata": {},
   "source": [
    "7. Recorre `cualquira_lista` para mostrar todos los elementos que contiene excepto el número de la calle y las horas que has dormido."
   ]
  },
  {
   "cell_type": "code",
   "execution_count": 23,
   "metadata": {},
   "outputs": [],
   "source": [
    "def no_num(cualquiera_lista:list) -> list:\n",
    "\n",
    "    print(cualquiera_lista[1:-1])\n"
   ]
  },
  {
   "cell_type": "code",
   "execution_count": 24,
   "metadata": {},
   "outputs": [
    {
     "name": "stdout",
     "output_type": "stream",
     "text": [
      "['Recoletos', True, ['Recoletos', 15], None]\n"
     ]
    }
   ],
   "source": [
    "no_num(info_list)"
   ]
  },
  {
   "cell_type": "markdown",
   "metadata": {},
   "source": [
    "8. Recorrer `cualquira_lista` para imprimir todos los elementos que contiene excepto el primer elemento de la lista que está en cuarta posición (`'Recoletos`). Esta función debe devolver la longitud de ese elemento."
   ]
  },
  {
   "cell_type": "code",
   "execution_count": 45,
   "metadata": {},
   "outputs": [],
   "source": [
    "def dentro_lista(cualquiera_lista:list) -> int:\n",
    "\n",
    "    lista_print = cualquiera_lista.copy()\n",
    "    for elements in lista_print:\n",
    "        if type(elements) == list:\n",
    "            elements.pop(0)\n",
    "            print(lista_print)\n",
    "            return elements"
   ]
  },
  {
   "cell_type": "code",
   "execution_count": 46,
   "metadata": {},
   "outputs": [
    {
     "name": "stdout",
     "output_type": "stream",
     "text": [
      "[15, 'Recoletos', True, [15], None, '8']\n"
     ]
    },
    {
     "data": {
      "text/plain": [
       "[15]"
      ]
     },
     "execution_count": 46,
     "metadata": {},
     "output_type": "execute_result"
    }
   ],
   "source": [
    "dentro_lista(info_list)"
   ]
  },
  {
   "cell_type": "markdown",
   "metadata": {},
   "source": [
    "9. Haz un bucle sobre `cualquira_lista` para mostrar todos los elementos que contiene excepto el que contiene la información sobre si te gusta la montaña o la playa. La función debe devolver un mensaje que diga `\"Me encanta la playa\"` si prefieres la playa y un mensaje que diga `\"Me encanta la montaña\"` en caso contrario. "
   ]
  },
  {
   "cell_type": "code",
   "execution_count": 43,
   "metadata": {},
   "outputs": [],
   "source": [
    "def me_encanta(cualquiera_lista:list) -> str:\n",
    "    \n",
    "    for elemento in cualquiera_lista:\n",
    "        if type(elemento) == bool:\n",
    "            lista_print = cualquiera_lista.copy()\n",
    "            lista_print.remove(elemento)\n",
    "    \n",
    "    print(lista_print)        \n",
    "\n",
    "    for elementos in cualquiera_lista:\n",
    "        if elementos == bool and elemento == True:\n",
    "            return \"Me encanta la playa\"\n",
    "        else:\n",
    "            return \"Me encanta la montaña\""
   ]
  },
  {
   "cell_type": "code",
   "execution_count": 44,
   "metadata": {},
   "outputs": [
    {
     "name": "stdout",
     "output_type": "stream",
     "text": [
      "[15, 'Recoletos', True, ['Recoletos', 15], None, '8']\n",
      "[15, 'Recoletos', ['Recoletos', 15], None, '8']\n"
     ]
    },
    {
     "data": {
      "text/plain": [
       "'Me encanta la montaña'"
      ]
     },
     "execution_count": 44,
     "metadata": {},
     "output_type": "execute_result"
    }
   ],
   "source": [
    "print(info_list)\n",
    "me_encanta(info_list)"
   ]
  },
  {
   "cell_type": "markdown",
   "metadata": {},
   "source": [
    "### Ejercicio 2.\n",
    "\n",
    "En caso de no poder resolver una pregunta que contenga el código de una función, intenta hacerlo sin definir ninguna."
   ]
  },
  {
   "cell_type": "markdown",
   "metadata": {},
   "source": [
    "1. Crea una variable llamada `zone` y dale el valor **None**. 2. Recorre `cualquira_lista` y actualiza `zona` a **True** si y sólo si, has dormido más de 7 horas, te gusta la playa y la suma de las horas que has dormido más el número de El Puente es menor de 24. Para cualquier otro caso, `zone` será **False**. Esta función debe devolver el valor de `zone` y se llamará `zone_function`.\n"
   ]
  },
  {
   "cell_type": "code",
   "execution_count": 47,
   "metadata": {},
   "outputs": [],
   "source": [
    "zone = None"
   ]
  },
  {
   "cell_type": "code",
   "execution_count": 52,
   "metadata": {},
   "outputs": [],
   "source": [
    "def zone_function(cualquiera_lista:list, arg:None) -> bool:\n",
    "\n",
    "    if int(cualquiera_lista[-1]) >= 7 and cualquiera_lista[2] == True and (int(cualquiera_lista[-1]) + cualquiera_lista[0]) > 24:\n",
    "        arg = True\n",
    "    else:\n",
    "        arg = False\n",
    "    return arg\n"
   ]
  },
  {
   "cell_type": "code",
   "execution_count": 53,
   "metadata": {},
   "outputs": [
    {
     "data": {
      "text/plain": [
       "False"
      ]
     },
     "execution_count": 53,
     "metadata": {},
     "output_type": "execute_result"
    }
   ],
   "source": [
    "zone_function(info_list, zone)"
   ]
  },
  {
   "cell_type": "markdown",
   "metadata": {},
   "source": [
    "2. Define una función llamada `test_function` que reciba un único parámetro llamado `zone_value` y que devuelva el valor de `zone_value` si es **True**. Una vez definida `test_function` deberás llamarla con el valor devuelto por `zone_function` como argumento."
   ]
  },
  {
   "cell_type": "code",
   "execution_count": 56,
   "metadata": {},
   "outputs": [],
   "source": [
    "def test_function(zone_value:bool) -> bool:\n",
    "\n",
    "    if zone_value == True:\n",
    "        return zone_value"
   ]
  },
  {
   "cell_type": "code",
   "execution_count": 57,
   "metadata": {},
   "outputs": [],
   "source": [
    "test_function(zone_function(info_list, zone))"
   ]
  },
  {
   "cell_type": "markdown",
   "metadata": {},
   "source": [
    "3. Define una función que pregunte al usuario si le gusta la montaña y, en caso negativo, llame a la función `zone_function`."
   ]
  },
  {
   "cell_type": "code",
   "execution_count": 67,
   "metadata": {},
   "outputs": [],
   "source": [
    "def mountain():\n",
    "    argumento = input(\"Te gusta la montaña?\")\n",
    "    if argumento.lower() == \"si\":\n",
    "        return zone_function(info_list, False)"
   ]
  },
  {
   "cell_type": "code",
   "execution_count": 68,
   "metadata": {},
   "outputs": [
    {
     "data": {
      "text/plain": [
       "False"
      ]
     },
     "execution_count": 68,
     "metadata": {},
     "output_type": "execute_result"
    }
   ],
   "source": [
    "mountain()"
   ]
  },
  {
   "cell_type": "markdown",
   "metadata": {},
   "source": [
    "### Bonus Track.\n",
    "\n",
    "**Este Bonus Track puede llevarte varios días, no pasa nada, a veces la codificación es cuestión de tiempo.**"
   ]
  },
  {
   "cell_type": "markdown",
   "metadata": {},
   "source": [
    "1. Programa **una calculadora** que pida en pantalla dos números y dos operadores. Primero debe realizarse una operación y luego otra. Intenta definir el mayor número posible de funciones."
   ]
  },
  {
   "cell_type": "code",
   "execution_count": null,
   "metadata": {},
   "outputs": [],
   "source": []
  },
  {
   "cell_type": "markdown",
   "metadata": {},
   "source": [
    "!['ha'](https://i.pinimg.com/originals/c6/4e/fc/c64efc9adaedbf446f328698e8b67388.jpg)"
   ]
  },
  {
   "cell_type": "code",
   "execution_count": null,
   "metadata": {},
   "outputs": [],
   "source": []
  }
 ],
 "metadata": {
  "kernelspec": {
   "display_name": "Python 3.9.0 64-bit",
   "metadata": {
    "interpreter": {
     "hash": "2475d6245a592878725d4384023842617923001cc03e07ab60580c5fb01fa30c"
    }
   },
   "name": "python3"
  },
  "language_info": {
   "codemirror_mode": {
    "name": "ipython",
    "version": 3
   },
   "file_extension": ".py",
   "mimetype": "text/x-python",
   "name": "python",
   "nbconvert_exporter": "python",
   "pygments_lexer": "ipython3",
   "version": "3.11.5"
  }
 },
 "nbformat": 4,
 "nbformat_minor": 4
}
